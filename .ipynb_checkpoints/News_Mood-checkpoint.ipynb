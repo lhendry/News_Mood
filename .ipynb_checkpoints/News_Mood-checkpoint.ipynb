{
 "cells": [
  {
   "cell_type": "code",
   "execution_count": 1,
   "metadata": {
    "collapsed": true
   },
   "outputs": [],
   "source": [
    "# Dependencies and Twitter API Keys and Authorizations\n",
    "import numpy as np\n",
    "import pandas as pd\n",
    "import matplotlib.pyplot as plt\n",
    "import json\n",
    "import tweepy\n",
    "from datetime import datetime\n",
    "from vaderSentiment.vaderSentiment import SentimentIntensityAnalyzer\n",
    "analyzer = SentimentIntensityAnalyzer()\n",
    "from config import (consumer_key, \n",
    "                    consumer_secret, \n",
    "                    access_token, \n",
    "                    access_token_secret)\n",
    "auth = tweepy.OAuthHandler(consumer_key, consumer_secret)\n",
    "auth.set_access_token(access_token, access_token_secret)\n",
    "api = tweepy.API(auth, parser=tweepy.parsers.JSONParser())"
   ]
  },
  {
   "cell_type": "code",
   "execution_count": 2,
   "metadata": {
    "collapsed": true
   },
   "outputs": [],
   "source": [
    "# Create array with news outlet twitter handles\n",
    "    \n",
    "newsOutlets = [\"BBCWorld\", \"CBSNews\",\"CNN\", \"FoxNews\", \"nytimes\"]"
   ]
  },
  {
   "cell_type": "code",
   "execution_count": 25,
   "metadata": {},
   "outputs": [
    {
     "name": "stdout",
     "output_type": "stream",
     "text": [
      "{\n",
      "    \"contributors\": null,\n",
      "    \"coordinates\": null,\n",
      "    \"created_at\": \"Sun Dec 03 02:20:07 +0000 2017\",\n",
      "    \"entities\": {\n",
      "        \"hashtags\": [],\n",
      "        \"symbols\": [],\n",
      "        \"urls\": [\n",
      "            {\n",
      "                \"display_url\": \"bbc.in/2AFAE4I\",\n",
      "                \"expanded_url\": \"http://bbc.in/2AFAE4I\",\n",
      "                \"indices\": [\n",
      "                    73,\n",
      "                    96\n",
      "                ],\n",
      "                \"url\": \"https://t.co/Hmo8jR1cNF\"\n",
      "            }\n",
      "        ],\n",
      "        \"user_mentions\": []\n",
      "    },\n",
      "    \"favorite_count\": 97,\n",
      "    \"favorited\": false,\n",
      "    \"geo\": null,\n",
      "    \"id\": 937144383648030721,\n",
      "    \"id_str\": \"937144383648030721\",\n",
      "    \"in_reply_to_screen_name\": null,\n",
      "    \"in_reply_to_status_id\": null,\n",
      "    \"in_reply_to_status_id_str\": null,\n",
      "    \"in_reply_to_user_id\": null,\n",
      "    \"in_reply_to_user_id_str\": null,\n",
      "    \"is_quote_status\": false,\n",
      "    \"lang\": \"en\",\n",
      "    \"place\": null,\n",
      "    \"possibly_sensitive\": false,\n",
      "    \"retweet_count\": 67,\n",
      "    \"retweeted\": false,\n",
      "    \"source\": \"<a href=\\\"http://www.socialflow.com\\\" rel=\\\"nofollow\\\">SocialFlow</a>\",\n",
      "    \"text\": \"Meet one of the nominees in Liberia's hunt for most trustworthy official https://t.co/Hmo8jR1cNF\",\n",
      "    \"truncated\": false,\n",
      "    \"user\": {\n",
      "        \"contributors_enabled\": false,\n",
      "        \"created_at\": \"Thu Feb 01 07:44:29 +0000 2007\",\n",
      "        \"default_profile\": false,\n",
      "        \"default_profile_image\": false,\n",
      "        \"description\": \"News, features and analysis from the World's newsroom. Breaking news, follow @BBCBreaking. UK news, @BBCNews. Latest sports news @BBCSport\",\n",
      "        \"entities\": {\n",
      "            \"description\": {\n",
      "                \"urls\": []\n",
      "            },\n",
      "            \"url\": {\n",
      "                \"urls\": [\n",
      "                    {\n",
      "                        \"display_url\": \"bbc.com/news\",\n",
      "                        \"expanded_url\": \"http://www.bbc.com/news\",\n",
      "                        \"indices\": [\n",
      "                            0,\n",
      "                            23\n",
      "                        ],\n",
      "                        \"url\": \"https://t.co/7NEgoMwJy3\"\n",
      "                    }\n",
      "                ]\n",
      "            }\n",
      "        },\n",
      "        \"favourites_count\": 8,\n",
      "        \"follow_request_sent\": false,\n",
      "        \"followers_count\": 21972611,\n",
      "        \"following\": false,\n",
      "        \"friends_count\": 85,\n",
      "        \"geo_enabled\": false,\n",
      "        \"has_extended_profile\": false,\n",
      "        \"id\": 742143,\n",
      "        \"id_str\": \"742143\",\n",
      "        \"is_translation_enabled\": true,\n",
      "        \"is_translator\": false,\n",
      "        \"lang\": \"en\",\n",
      "        \"listed_count\": 106474,\n",
      "        \"location\": \"London, UK\",\n",
      "        \"name\": \"BBC News (World)\",\n",
      "        \"notifications\": false,\n",
      "        \"profile_background_color\": \"FFFFFF\",\n",
      "        \"profile_background_image_url\": \"http://pbs.twimg.com/profile_background_images/459295591915204608/P0byaGJj.jpeg\",\n",
      "        \"profile_background_image_url_https\": \"https://pbs.twimg.com/profile_background_images/459295591915204608/P0byaGJj.jpeg\",\n",
      "        \"profile_background_tile\": false,\n",
      "        \"profile_banner_url\": \"https://pbs.twimg.com/profile_banners/742143/1485172490\",\n",
      "        \"profile_image_url\": \"http://pbs.twimg.com/profile_images/875702138680246273/BfQLzf7G_normal.jpg\",\n",
      "        \"profile_image_url_https\": \"https://pbs.twimg.com/profile_images/875702138680246273/BfQLzf7G_normal.jpg\",\n",
      "        \"profile_link_color\": \"1F527B\",\n",
      "        \"profile_sidebar_border_color\": \"FFFFFF\",\n",
      "        \"profile_sidebar_fill_color\": \"FFFFFF\",\n",
      "        \"profile_text_color\": \"5A5A5A\",\n",
      "        \"profile_use_background_image\": true,\n",
      "        \"protected\": false,\n",
      "        \"screen_name\": \"BBCWorld\",\n",
      "        \"statuses_count\": 269227,\n",
      "        \"time_zone\": \"London\",\n",
      "        \"translator_type\": \"none\",\n",
      "        \"url\": \"https://t.co/7NEgoMwJy3\",\n",
      "        \"utc_offset\": 0,\n",
      "        \"verified\": true\n",
      "    }\n",
      "}\n"
     ]
    }
   ],
   "source": [
    "# print a single tweet json for reference\n",
    "test_tweet = api.user_timeline(newsOutlets[0])\n",
    "print(json.dumps(test_tweet[0], sort_keys=True, indent=4))"
   ]
  },
  {
   "cell_type": "code",
   "execution_count": 4,
   "metadata": {
    "collapsed": true
   },
   "outputs": [],
   "source": [
    "# Create array for sentiments\n",
    "sentiment_array = []"
   ]
  },
  {
   "cell_type": "code",
   "execution_count": 5,
   "metadata": {
    "collapsed": true
   },
   "outputs": [],
   "source": [
    "# Loop through all five media outlets\n",
    "for outlet in newsOutlets:\n",
    "    counter = 1   \n",
    "    \n",
    "    # For each outlet loop through 5 pages of tweets (total 100 tweets)\n",
    "    for x in range(5):\n",
    "\n",
    "        # Get user's tweets, specifying the page\n",
    "        public_tweets = api.user_timeline(outlet, page=x)\n",
    "\n",
    "        # Loop through all tweets\n",
    "        for tweet in public_tweets:\n",
    "            \n",
    "            #Get info for each tweet \n",
    "                      \n",
    "            # Get account handle and full user name\n",
    "            tweet_target = tweet[\"user\"][\"screen_name\"]\n",
    "            tweet_name = tweet[\"user\"][\"name\"]\n",
    "            \n",
    "            # Convert tweet date\n",
    "            converted_time = datetime.strptime(tweet[\"created_at\"], \"%a %b %d %H:%M:%S %z %Y\")\n",
    "            \n",
    "            # Get tweet text\n",
    "            tweet_text = tweet[\"text\"]\n",
    "            \n",
    "            # Run sentiment analysis\n",
    "            results = analyzer.polarity_scores(tweet[\"text\"])\n",
    "            pos = results[\"pos\"]\n",
    "            neg = results[\"neg\"]\n",
    "            neu = results[\"neu\"]\n",
    "            comp = results[\"compound\"]\n",
    "            \n",
    "            # Place data in a dictionary\n",
    "            sentiment = {\"TweetsAgo\":counter,\n",
    "                         \"Target\": tweet_target,\n",
    "                         \"User\": tweet_name,\n",
    "                         \"Date\": converted_time,\n",
    "                         \"Text\": tweet_text,\n",
    "                         \"Compound\": comp,\n",
    "                         \"Positive\": pos,\n",
    "                         \"Neutral\": neu,\n",
    "                         \"Negative\": neg\n",
    "                        }\n",
    "            \n",
    "            # Append dictionary to master sentiment array\n",
    "            sentiment_array.append(sentiment)\n",
    "           \n",
    "        # For testing only print sample tweet info           \n",
    "        # print(f\"Tweet# {counter}: {outlet}\")\n",
    "        # print(f\"      name: {tweet_name} |  time: {converted_time} | {tweet_text} \")\n",
    "            \n",
    "        # Increment counter\n",
    "            counter +=1"
   ]
  },
  {
   "cell_type": "code",
   "execution_count": 6,
   "metadata": {},
   "outputs": [
    {
     "data": {
      "text/plain": [
       "500"
      ]
     },
     "execution_count": 6,
     "metadata": {},
     "output_type": "execute_result"
    }
   ],
   "source": [
    "# Verify there are 500 total tweets (100 from each of the five outlets)\n",
    "len(sentiment_array)"
   ]
  },
  {
   "cell_type": "code",
   "execution_count": 7,
   "metadata": {
    "collapsed": true
   },
   "outputs": [],
   "source": [
    "# Create sentiments data frame\n",
    "sentiments_df = pd.DataFrame(sentiment_array)"
   ]
  },
  {
   "cell_type": "code",
   "execution_count": 8,
   "metadata": {},
   "outputs": [
    {
     "data": {
      "text/html": [
       "<div>\n",
       "<style scoped>\n",
       "    .dataframe tbody tr th:only-of-type {\n",
       "        vertical-align: middle;\n",
       "    }\n",
       "\n",
       "    .dataframe tbody tr th {\n",
       "        vertical-align: top;\n",
       "    }\n",
       "\n",
       "    .dataframe thead th {\n",
       "        text-align: right;\n",
       "    }\n",
       "</style>\n",
       "<table border=\"1\" class=\"dataframe\">\n",
       "  <thead>\n",
       "    <tr style=\"text-align: right;\">\n",
       "      <th></th>\n",
       "      <th>TweetsAgo</th>\n",
       "      <th>Target</th>\n",
       "      <th>User</th>\n",
       "      <th>Date</th>\n",
       "      <th>Positive</th>\n",
       "      <th>Neutral</th>\n",
       "      <th>Negative</th>\n",
       "      <th>Compound</th>\n",
       "      <th>Text</th>\n",
       "    </tr>\n",
       "  </thead>\n",
       "  <tbody>\n",
       "    <tr>\n",
       "      <th>0</th>\n",
       "      <td>1</td>\n",
       "      <td>BBCWorld</td>\n",
       "      <td>BBC News (World)</td>\n",
       "      <td>2017-12-03 02:20:07+00:00</td>\n",
       "      <td>0.245</td>\n",
       "      <td>0.755</td>\n",
       "      <td>0.000</td>\n",
       "      <td>0.5984</td>\n",
       "      <td>Meet one of the nominees in Liberia's hunt for...</td>\n",
       "    </tr>\n",
       "    <tr>\n",
       "      <th>1</th>\n",
       "      <td>2</td>\n",
       "      <td>BBCWorld</td>\n",
       "      <td>BBC News (World)</td>\n",
       "      <td>2017-12-03 02:16:44+00:00</td>\n",
       "      <td>0.388</td>\n",
       "      <td>0.393</td>\n",
       "      <td>0.219</td>\n",
       "      <td>0.4588</td>\n",
       "      <td>From war wounded to medal winner: Ukrainian so...</td>\n",
       "    </tr>\n",
       "    <tr>\n",
       "      <th>2</th>\n",
       "      <td>3</td>\n",
       "      <td>BBCWorld</td>\n",
       "      <td>BBC News (World)</td>\n",
       "      <td>2017-12-03 02:02:43+00:00</td>\n",
       "      <td>0.000</td>\n",
       "      <td>0.778</td>\n",
       "      <td>0.222</td>\n",
       "      <td>-0.2500</td>\n",
       "      <td>UK social mobility board quits in protest http...</td>\n",
       "    </tr>\n",
       "    <tr>\n",
       "      <th>3</th>\n",
       "      <td>4</td>\n",
       "      <td>BBCWorld</td>\n",
       "      <td>BBC News (World)</td>\n",
       "      <td>2017-12-03 01:04:37+00:00</td>\n",
       "      <td>0.535</td>\n",
       "      <td>0.465</td>\n",
       "      <td>0.000</td>\n",
       "      <td>0.3182</td>\n",
       "      <td>Fresh heart https://t.co/InPKv8ZCQf</td>\n",
       "    </tr>\n",
       "    <tr>\n",
       "      <th>4</th>\n",
       "      <td>5</td>\n",
       "      <td>BBCWorld</td>\n",
       "      <td>BBC News (World)</td>\n",
       "      <td>2017-12-03 00:27:24+00:00</td>\n",
       "      <td>0.000</td>\n",
       "      <td>1.000</td>\n",
       "      <td>0.000</td>\n",
       "      <td>0.0000</td>\n",
       "      <td>Pop apocalypse https://t.co/eE4noHWNK7</td>\n",
       "    </tr>\n",
       "  </tbody>\n",
       "</table>\n",
       "</div>"
      ],
      "text/plain": [
       "   TweetsAgo    Target              User                      Date  Positive  \\\n",
       "0          1  BBCWorld  BBC News (World) 2017-12-03 02:20:07+00:00     0.245   \n",
       "1          2  BBCWorld  BBC News (World) 2017-12-03 02:16:44+00:00     0.388   \n",
       "2          3  BBCWorld  BBC News (World) 2017-12-03 02:02:43+00:00     0.000   \n",
       "3          4  BBCWorld  BBC News (World) 2017-12-03 01:04:37+00:00     0.535   \n",
       "4          5  BBCWorld  BBC News (World) 2017-12-03 00:27:24+00:00     0.000   \n",
       "\n",
       "   Neutral  Negative  Compound  \\\n",
       "0    0.755     0.000    0.5984   \n",
       "1    0.393     0.219    0.4588   \n",
       "2    0.778     0.222   -0.2500   \n",
       "3    0.465     0.000    0.3182   \n",
       "4    1.000     0.000    0.0000   \n",
       "\n",
       "                                                Text  \n",
       "0  Meet one of the nominees in Liberia's hunt for...  \n",
       "1  From war wounded to medal winner: Ukrainian so...  \n",
       "2  UK social mobility board quits in protest http...  \n",
       "3                Fresh heart https://t.co/InPKv8ZCQf  \n",
       "4             Pop apocalypse https://t.co/eE4noHWNK7  "
      ]
     },
     "execution_count": 8,
     "metadata": {},
     "output_type": "execute_result"
    }
   ],
   "source": [
    "sentiments_df = sentiments_df[[\"TweetsAgo\",\"Target\",\"User\",\"Date\",\"Positive\",\"Neutral\",\"Negative\",\"Compound\",\"Text\"]]\n",
    "sentiments_df.head()"
   ]
  },
  {
   "cell_type": "code",
   "execution_count": 9,
   "metadata": {
    "collapsed": true
   },
   "outputs": [],
   "source": [
    "# Sort data frame by target and tweets ago\n",
    "sentiments_df = sentiments_df.sort_values([\"Target\",\"TweetsAgo\"], ascending=[True, False])\n",
    "    #sentiments_df.head()"
   ]
  },
  {
   "cell_type": "code",
   "execution_count": 10,
   "metadata": {
    "collapsed": true
   },
   "outputs": [],
   "source": [
    "# Save twitter data to CSV file\n",
    "sentiments_df.to_csv(\"recentTweets.csv\", encoding=\"utf-8\", index=False)"
   ]
  },
  {
   "cell_type": "code",
   "execution_count": 11,
   "metadata": {
    "collapsed": true
   },
   "outputs": [],
   "source": [
    "# Create charting data frames for each type\n",
    "BBC_df = sentiments_df[sentiments_df[\"Target\"]==\"BBCWorld\"]\n",
    "CBS_df = sentiments_df[sentiments_df[\"Target\"]==\"CBSNews\"]\n",
    "CNN_df = sentiments_df[sentiments_df[\"Target\"]==\"CNN\"]\n",
    "FOX_df = sentiments_df[sentiments_df[\"Target\"]==\"FoxNews\"]\n",
    "NYT_df = sentiments_df[sentiments_df[\"Target\"]==\"nytimes\"]"
   ]
  },
  {
   "cell_type": "code",
   "execution_count": 12,
   "metadata": {},
   "outputs": [
    {
     "data": {
      "text/plain": [
       "<matplotlib.collections.PathCollection at 0x23bf0d5abe0>"
      ]
     },
     "execution_count": 12,
     "metadata": {},
     "output_type": "execute_result"
    }
   ],
   "source": [
    "plt.scatter(BBC_df[\"TweetsAgo\"], BBC_df[\"Compound\"], marker=\"o\", facecolors=\"gold\", edgecolors=\"black\", label=\"BBCWorld\", alpha=0.75)\n",
    "plt.scatter(CBS_df[\"TweetsAgo\"], CBS_df[\"Compound\"], marker=\"o\", facecolors=\"blue\", edgecolors=\"black\", label=\"CBSNews\", alpha=0.75)\n",
    "plt.scatter(CNN_df[\"TweetsAgo\"], CNN_df[\"Compound\"], marker=\"o\", facecolors=\"green\", edgecolors=\"black\", label=\"CNN\", alpha=0.75)\n",
    "plt.scatter(FOX_df[\"TweetsAgo\"], FOX_df[\"Compound\"], marker=\"o\", facecolors=\"red\", edgecolors=\"black\", label=\"FoxNews\", alpha=0.75)\n",
    "plt.scatter(NYT_df[\"TweetsAgo\"], NYT_df[\"Compound\"], marker=\"o\", facecolors=\"lightblue\", edgecolors=\"black\", label=\"NYTimes\", alpha=0.75)"
   ]
  },
  {
   "cell_type": "code",
   "execution_count": 13,
   "metadata": {},
   "outputs": [
    {
     "data": {
      "text/plain": [
       "Text(0,0.5,'Tweet Polarity')"
      ]
     },
     "execution_count": 13,
     "metadata": {},
     "output_type": "execute_result"
    }
   ],
   "source": [
    "# Add labels to the x and y axes\n",
    "curDate = datetime.now().date()\n",
    "plt.title(f\"Sentiment Analysis of Media Tweets as of {curDate}\")\n",
    "plt.xlabel(\"Tweets Ago\")\n",
    "plt.ylabel(\"Tweet Polarity\")"
   ]
  },
  {
   "cell_type": "code",
   "execution_count": 14,
   "metadata": {},
   "outputs": [
    {
     "data": {
      "text/plain": [
       "(-1, 1)"
      ]
     },
     "execution_count": 14,
     "metadata": {},
     "output_type": "execute_result"
    }
   ],
   "source": [
    "# Set the x and y limits\n",
    "plt.xlim(100, 0)\n",
    "plt.ylim(-1, 1)"
   ]
  },
  {
   "cell_type": "code",
   "execution_count": 15,
   "metadata": {
    "collapsed": true
   },
   "outputs": [],
   "source": [
    "# Set a grid on plot and format legend\n",
    "plt.grid()\n",
    "#plt.legend(bbox_to_anchor=(0, 1), loc='upper left', ncol=1)\n",
    "lgnd= plt.legend(bbox_to_anchor=(1.3, 1), loc=\"upper right\", scatterpoints=1, fontsize=10, title=\"Media Outlets\")\n",
    "lgnd.legendHandles[0]._sizes = [30]\n",
    "lgnd.legendHandles[1]._sizes = [30]\n",
    "lgnd.legendHandles[2]._sizes = [30]\n",
    "lgnd.legendHandles[3]._sizes = [30]\n",
    "lgnd.legendHandles[4]._sizes = [30]"
   ]
  },
  {
   "cell_type": "code",
   "execution_count": 16,
   "metadata": {},
   "outputs": [
    {
     "data": {
      "image/png": "[encoded data removed]",
      "text/plain": [
       "<matplotlib.figure.Figure at 0x23bf1eaf320>"
      ]
     },
     "metadata": {},
     "output_type": "display_data"
    }
   ],
   "source": [
    "# Save and show plot\n",
    "plt.savefig(\"SentimentScatterPlot.png\")\n",
    "plt.show()"
   ]
  },
  {
   "cell_type": "code",
   "execution_count": 17,
   "metadata": {
    "collapsed": true
   },
   "outputs": [],
   "source": [
    "# Group the data by media outlet\n",
    "groupedNews = sentiments_df.groupby([\"Target\"], as_index=False)\n",
    "    #groupedNews.head()"
   ]
  },
  {
   "cell_type": "code",
   "execution_count": 18,
   "metadata": {},
   "outputs": [
    {
     "data": {
      "text/html": [
       "<div>\n",
       "<style scoped>\n",
       "    .dataframe tbody tr th:only-of-type {\n",
       "        vertical-align: middle;\n",
       "    }\n",
       "\n",
       "    .dataframe tbody tr th {\n",
       "        vertical-align: top;\n",
       "    }\n",
       "\n",
       "    .dataframe thead th {\n",
       "        text-align: right;\n",
       "    }\n",
       "</style>\n",
       "<table border=\"1\" class=\"dataframe\">\n",
       "  <thead>\n",
       "    <tr style=\"text-align: right;\">\n",
       "      <th></th>\n",
       "      <th>Target</th>\n",
       "      <th>Compound</th>\n",
       "    </tr>\n",
       "  </thead>\n",
       "  <tbody>\n",
       "    <tr>\n",
       "      <th>0</th>\n",
       "      <td>BBCWorld</td>\n",
       "      <td>0.002582</td>\n",
       "    </tr>\n",
       "    <tr>\n",
       "      <th>1</th>\n",
       "      <td>CBSNews</td>\n",
       "      <td>-0.192215</td>\n",
       "    </tr>\n",
       "    <tr>\n",
       "      <th>2</th>\n",
       "      <td>CNN</td>\n",
       "      <td>-0.121514</td>\n",
       "    </tr>\n",
       "    <tr>\n",
       "      <th>3</th>\n",
       "      <td>FoxNews</td>\n",
       "      <td>0.017722</td>\n",
       "    </tr>\n",
       "    <tr>\n",
       "      <th>4</th>\n",
       "      <td>nytimes</td>\n",
       "      <td>0.002401</td>\n",
       "    </tr>\n",
       "  </tbody>\n",
       "</table>\n",
       "</div>"
      ],
      "text/plain": [
       "     Target  Compound\n",
       "0  BBCWorld  0.002582\n",
       "1   CBSNews -0.192215\n",
       "2       CNN -0.121514\n",
       "3   FoxNews  0.017722\n",
       "4   nytimes  0.002401"
      ]
     },
     "execution_count": 18,
     "metadata": {},
     "output_type": "execute_result"
    }
   ],
   "source": [
    "# Get the average Compound sentiment\n",
    "avgComp = groupedNews[\"Compound\"].mean()\n",
    "avgComp.head()"
   ]
  },
  {
   "cell_type": "code",
   "execution_count": 19,
   "metadata": {
    "collapsed": true
   },
   "outputs": [],
   "source": [
    "# Set up arrays for charting\n",
    "bar_outlets = avgComp[\"Target\"]\n",
    "bar_Compound = avgComp[\"Compound\"]\n",
    "x_axis = np.arange(0, len(bar_Compound), 1)"
   ]
  },
  {
   "cell_type": "code",
   "execution_count": 20,
   "metadata": {},
   "outputs": [
    {
     "data": {
      "text/plain": [
       "<Container object of 5 artists>"
      ]
     },
     "execution_count": 20,
     "metadata": {},
     "output_type": "execute_result"
    }
   ],
   "source": [
    "# Create a bar chart based upon the above data\n",
    "plt.bar(x_axis, bar_Compound, color=[\"gold\",\"blue\",\"green\",\"red\",\"lightblue\"], align=\"edge\")"
   ]
  },
  {
   "cell_type": "code",
   "execution_count": 21,
   "metadata": {},
   "outputs": [
    {
     "data": {
      "text/plain": [
       "([<matplotlib.axis.XTick at 0x23bf3f8f588>,\n",
       "  <matplotlib.axis.XTick at 0x23bf3f69d30>,\n",
       "  <matplotlib.axis.XTick at 0x23bf3fab8d0>,\n",
       "  <matplotlib.axis.XTick at 0x23bf3fe45f8>,\n",
       "  <matplotlib.axis.XTick at 0x23bf3fe4c50>],\n",
       " <a list of 5 Text xticklabel objects>)"
      ]
     },
     "execution_count": 21,
     "metadata": {},
     "output_type": "execute_result"
    }
   ],
   "source": [
    "# Create the ticks for our bar chart's x axis\n",
    "tick_locations = [value+0.4 for value in x_axis]\n",
    "plt.xticks(tick_locations, bar_outlets)"
   ]
  },
  {
   "cell_type": "code",
   "execution_count": 22,
   "metadata": {},
   "outputs": [
    {
     "data": {
      "text/plain": [
       "(-0.3, 0.1)"
      ]
     },
     "execution_count": 22,
     "metadata": {},
     "output_type": "execute_result"
    }
   ],
   "source": [
    "# Set the limits of the x axis\n",
    "plt.xlim(-0.25, len(x_axis))\n",
    "\n",
    "# Set the limits of the y axis\n",
    "plt.ylim(-.3, .1)"
   ]
  },
  {
   "cell_type": "code",
   "execution_count": 23,
   "metadata": {},
   "outputs": [
    {
     "data": {
      "text/plain": [
       "Text(0,0.5,'Tweet Polarity')"
      ]
     },
     "execution_count": 23,
     "metadata": {},
     "output_type": "execute_result"
    }
   ],
   "source": [
    "# Give the chart a title, x label, and y label\n",
    "plt.title(f\"Overall Media Sentiment Based on Twitter as of {curDate}\")\n",
    "plt.xlabel(\"Outlets\")\n",
    "plt.ylabel(\"Tweet Polarity\")"
   ]
  },
  {
   "cell_type": "code",
   "execution_count": 24,
   "metadata": {},
   "outputs": [
    {
     "data": {
      "image/png": "[encoded data removed]",
      "text/plain": [
       "<matplotlib.figure.Figure at 0x23bf3f6fc50>"
      ]
     },
     "metadata": {},
     "output_type": "display_data"
    }
   ],
   "source": [
    "# Save an image of the chart and print it to the screen\n",
    "plt.savefig(\"BarSentiment.png\")\n",
    "plt.show()"
   ]
  },
  {
   "cell_type": "code",
   "execution_count": null,
   "metadata": {
    "collapsed": true
   },
   "outputs": [],
   "source": []
  }
 ],
 "metadata": {
  "kernelspec": {
   "display_name": "Python 3",
   "language": "python",
   "name": "python3"
  },
  "language_info": {
   "codemirror_mode": {
    "name": "ipython",
    "version": 3
   },
   "file_extension": ".py",
   "mimetype": "text/x-python",
   "name": "python",
   "nbconvert_exporter": "python",
   "pygments_lexer": "ipython3",
   "version": "3.6.2"
  }
 },
 "nbformat": 4,
 "nbformat_minor": 2
}
